{
 "cells": [
  {
   "cell_type": "markdown",
   "metadata": {},
   "source": [
    "## Data Preperation"
   ]
  },
  {
   "cell_type": "code",
   "execution_count": 154,
   "metadata": {
    "collapsed": true
   },
   "outputs": [],
   "source": [
    "import pandas as pd\n",
    "import numpy as np\n",
    "import sqlite3\n",
    "import time\n",
    "from datetime import datetime, timedelta"
   ]
  },
  {
   "cell_type": "code",
   "execution_count": 155,
   "metadata": {
    "collapsed": true
   },
   "outputs": [],
   "source": [
    "trips = pd.read_csv('../../CSVs/trips.csv', low_memory=False)\n",
    "stop_times = pd.read_csv('../../CSVs/stop_times.csv', low_memory=False)\n",
    "trp_update = pd.read_csv('../../CSVs/trip_updates.csv', usecols=['oid','trip_id', 'route_id', 'timestamp', 'trip_start_time'], low_memory=False)"
   ]
  },
  {
   "cell_type": "code",
   "execution_count": 156,
   "metadata": {
    "collapsed": true
   },
   "outputs": [],
   "source": [
    "conn = sqlite3.connect('../../gtfs.db')"
   ]
  },
  {
   "cell_type": "code",
   "execution_count": 157,
   "metadata": {},
   "outputs": [
    {
     "data": {
      "text/html": [
       "<div>\n",
       "<style>\n",
       "    .dataframe thead tr:only-child th {\n",
       "        text-align: right;\n",
       "    }\n",
       "\n",
       "    .dataframe thead th {\n",
       "        text-align: left;\n",
       "    }\n",
       "\n",
       "    .dataframe tbody tr th {\n",
       "        vertical-align: top;\n",
       "    }\n",
       "</style>\n",
       "<table border=\"1\" class=\"dataframe\">\n",
       "  <thead>\n",
       "    <tr style=\"text-align: right;\">\n",
       "      <th></th>\n",
       "      <th>trip_id</th>\n",
       "      <th>stop_id</th>\n",
       "      <th>stop_sequence</th>\n",
       "      <th>arrival_time</th>\n",
       "      <th>departure_time</th>\n",
       "    </tr>\n",
       "  </thead>\n",
       "  <tbody>\n",
       "    <tr>\n",
       "      <th>0</th>\n",
       "      <td>Logan-22-Weekday-trip</td>\n",
       "      <td>Logan-Subway</td>\n",
       "      <td>1</td>\n",
       "      <td>08:00:00</td>\n",
       "      <td>08:00:00</td>\n",
       "    </tr>\n",
       "    <tr>\n",
       "      <th>1</th>\n",
       "      <td>Logan-22-Weekday-trip</td>\n",
       "      <td>Logan-RentalCarCenter</td>\n",
       "      <td>2</td>\n",
       "      <td>08:04:00</td>\n",
       "      <td>08:04:00</td>\n",
       "    </tr>\n",
       "    <tr>\n",
       "      <th>2</th>\n",
       "      <td>Logan-22-Weekday-trip</td>\n",
       "      <td>Logan-A</td>\n",
       "      <td>3</td>\n",
       "      <td>08:09:00</td>\n",
       "      <td>08:09:00</td>\n",
       "    </tr>\n",
       "    <tr>\n",
       "      <th>3</th>\n",
       "      <td>Logan-22-Weekday-trip</td>\n",
       "      <td>Logan-B</td>\n",
       "      <td>4</td>\n",
       "      <td>08:12:00</td>\n",
       "      <td>08:12:00</td>\n",
       "    </tr>\n",
       "    <tr>\n",
       "      <th>4</th>\n",
       "      <td>Logan-22-Weekday-trip</td>\n",
       "      <td>Logan-Subway</td>\n",
       "      <td>5</td>\n",
       "      <td>08:17:00</td>\n",
       "      <td>08:17:00</td>\n",
       "    </tr>\n",
       "  </tbody>\n",
       "</table>\n",
       "</div>"
      ],
      "text/plain": [
       "                 trip_id                stop_id  stop_sequence arrival_time  \\\n",
       "0  Logan-22-Weekday-trip           Logan-Subway              1     08:00:00   \n",
       "1  Logan-22-Weekday-trip  Logan-RentalCarCenter              2     08:04:00   \n",
       "2  Logan-22-Weekday-trip                Logan-A              3     08:09:00   \n",
       "3  Logan-22-Weekday-trip                Logan-B              4     08:12:00   \n",
       "4  Logan-22-Weekday-trip           Logan-Subway              5     08:17:00   \n",
       "\n",
       "  departure_time  \n",
       "0       08:00:00  \n",
       "1       08:04:00  \n",
       "2       08:09:00  \n",
       "3       08:12:00  \n",
       "4       08:17:00  "
      ]
     },
     "execution_count": 157,
     "metadata": {},
     "output_type": "execute_result"
    }
   ],
   "source": [
    "stop_times = stop_times.loc[:, ['trip_id', 'stop_id', 'stop_sequence', 'arrival_time', 'departure_time']]\n",
    "stop_times.head()"
   ]
  },
  {
   "cell_type": "code",
   "execution_count": 158,
   "metadata": {},
   "outputs": [
    {
     "data": {
      "text/html": [
       "<div>\n",
       "<style>\n",
       "    .dataframe thead tr:only-child th {\n",
       "        text-align: right;\n",
       "    }\n",
       "\n",
       "    .dataframe thead th {\n",
       "        text-align: left;\n",
       "    }\n",
       "\n",
       "    .dataframe tbody tr th {\n",
       "        vertical-align: top;\n",
       "    }\n",
       "</style>\n",
       "<table border=\"1\" class=\"dataframe\">\n",
       "  <thead>\n",
       "    <tr style=\"text-align: right;\">\n",
       "      <th></th>\n",
       "      <th>trip_id</th>\n",
       "      <th>route_id</th>\n",
       "      <th>service_id</th>\n",
       "      <th>trip_headsign</th>\n",
       "    </tr>\n",
       "  </thead>\n",
       "  <tbody>\n",
       "    <tr>\n",
       "      <th>0</th>\n",
       "      <td>Logan-22-Weekday-trip</td>\n",
       "      <td>Logan-22</td>\n",
       "      <td>Logan-Weekday</td>\n",
       "      <td>Loop</td>\n",
       "    </tr>\n",
       "    <tr>\n",
       "      <th>1</th>\n",
       "      <td>Logan-22-Weekend-trip</td>\n",
       "      <td>Logan-22</td>\n",
       "      <td>Logan-Weekend</td>\n",
       "      <td>Loop</td>\n",
       "    </tr>\n",
       "    <tr>\n",
       "      <th>2</th>\n",
       "      <td>Logan-33-Weekday-trip</td>\n",
       "      <td>Logan-33</td>\n",
       "      <td>Logan-Weekday</td>\n",
       "      <td>Loop</td>\n",
       "    </tr>\n",
       "    <tr>\n",
       "      <th>3</th>\n",
       "      <td>Logan-33-Weekend-trip</td>\n",
       "      <td>Logan-33</td>\n",
       "      <td>Logan-Weekend</td>\n",
       "      <td>Loop</td>\n",
       "    </tr>\n",
       "    <tr>\n",
       "      <th>4</th>\n",
       "      <td>Logan-55-Weekday-trip</td>\n",
       "      <td>Logan-55</td>\n",
       "      <td>Logan-Weekday</td>\n",
       "      <td>Loop</td>\n",
       "    </tr>\n",
       "  </tbody>\n",
       "</table>\n",
       "</div>"
      ],
      "text/plain": [
       "                 trip_id  route_id     service_id trip_headsign\n",
       "0  Logan-22-Weekday-trip  Logan-22  Logan-Weekday          Loop\n",
       "1  Logan-22-Weekend-trip  Logan-22  Logan-Weekend          Loop\n",
       "2  Logan-33-Weekday-trip  Logan-33  Logan-Weekday          Loop\n",
       "3  Logan-33-Weekend-trip  Logan-33  Logan-Weekend          Loop\n",
       "4  Logan-55-Weekday-trip  Logan-55  Logan-Weekday          Loop"
      ]
     },
     "execution_count": 158,
     "metadata": {},
     "output_type": "execute_result"
    }
   ],
   "source": [
    "trips = trips.loc[:, ['trip_id', 'route_id', 'service_id', 'trip_headsign']]\n",
    "trips.head()"
   ]
  },
  {
   "cell_type": "code",
   "execution_count": 159,
   "metadata": {},
   "outputs": [
    {
     "data": {
      "text/plain": [
       "('2017-09-25 22:33:24.000000', '2017-09-26 12:33:39.000000')"
      ]
     },
     "execution_count": 159,
     "metadata": {},
     "output_type": "execute_result"
    }
   ],
   "source": [
    "data_time_interval = (trp_update['timestamp'].min(),trp_update['timestamp'].max())\n",
    "data_time_interval"
   ]
  },
  {
   "cell_type": "markdown",
   "metadata": {},
   "source": [
    "The above array shows the datetimes at which the data collection started and ended. We want to check updates on trips that we expect to run around these times. We can get this information from the static stop times table, but first we'll convert these strings to datetime objects for easier manipulation."
   ]
  },
  {
   "cell_type": "code",
   "execution_count": 160,
   "metadata": {},
   "outputs": [
    {
     "data": {
      "text/plain": [
       "(datetime.time(22, 33, 24), datetime.time(12, 33, 39))"
      ]
     },
     "execution_count": 160,
     "metadata": {},
     "output_type": "execute_result"
    }
   ],
   "source": [
    "start = datetime.strptime(data_time_interval[0][11:19], '%H:%M:%S').time()\n",
    "end = datetime.strptime(data_time_interval[1][11:19], '%H:%M:%S').time()\n",
    "start, end"
   ]
  },
  {
   "cell_type": "code",
   "execution_count": 161,
   "metadata": {
    "collapsed": true
   },
   "outputs": [],
   "source": [
    "stop_times = stop_times[stop_times['arrival_time'] < '24:00:00' ]\n",
    "static_arrival_times = stop_times['arrival_time'].apply(lambda x: datetime.strptime(x, '%H:%M:%S').time())"
   ]
  },
  {
   "cell_type": "markdown",
   "metadata": {},
   "source": [
    "The stop_times dataframe now only contains trips that have static arrival times that fall below hour 24. This is because the python datetime.time object cannot handle hours past 24. It is possible perhaps to use the timedelta python object to handle this edge case. For now those trips will be taken out. The arrival times have been converted into datetime.time objects and will be used for indexing."
   ]
  },
  {
   "cell_type": "code",
   "execution_count": 162,
   "metadata": {},
   "outputs": [
    {
     "data": {
      "text/html": [
       "<div>\n",
       "<style>\n",
       "    .dataframe thead tr:only-child th {\n",
       "        text-align: right;\n",
       "    }\n",
       "\n",
       "    .dataframe thead th {\n",
       "        text-align: left;\n",
       "    }\n",
       "\n",
       "    .dataframe tbody tr th {\n",
       "        vertical-align: top;\n",
       "    }\n",
       "</style>\n",
       "<table border=\"1\" class=\"dataframe\">\n",
       "  <thead>\n",
       "    <tr style=\"text-align: right;\">\n",
       "      <th></th>\n",
       "      <th>trip_id</th>\n",
       "      <th>stop_id</th>\n",
       "      <th>stop_sequence</th>\n",
       "      <th>arrival_time</th>\n",
       "      <th>departure_time</th>\n",
       "    </tr>\n",
       "  </thead>\n",
       "  <tbody>\n",
       "    <tr>\n",
       "      <th>0</th>\n",
       "      <td>Logan-22-Weekday-trip</td>\n",
       "      <td>Logan-Subway</td>\n",
       "      <td>1</td>\n",
       "      <td>08:00:00</td>\n",
       "      <td>08:00:00</td>\n",
       "    </tr>\n",
       "    <tr>\n",
       "      <th>1</th>\n",
       "      <td>Logan-22-Weekday-trip</td>\n",
       "      <td>Logan-RentalCarCenter</td>\n",
       "      <td>2</td>\n",
       "      <td>08:04:00</td>\n",
       "      <td>08:04:00</td>\n",
       "    </tr>\n",
       "    <tr>\n",
       "      <th>2</th>\n",
       "      <td>Logan-22-Weekday-trip</td>\n",
       "      <td>Logan-A</td>\n",
       "      <td>3</td>\n",
       "      <td>08:09:00</td>\n",
       "      <td>08:09:00</td>\n",
       "    </tr>\n",
       "    <tr>\n",
       "      <th>3</th>\n",
       "      <td>Logan-22-Weekday-trip</td>\n",
       "      <td>Logan-B</td>\n",
       "      <td>4</td>\n",
       "      <td>08:12:00</td>\n",
       "      <td>08:12:00</td>\n",
       "    </tr>\n",
       "    <tr>\n",
       "      <th>4</th>\n",
       "      <td>Logan-22-Weekday-trip</td>\n",
       "      <td>Logan-Subway</td>\n",
       "      <td>5</td>\n",
       "      <td>08:17:00</td>\n",
       "      <td>08:17:00</td>\n",
       "    </tr>\n",
       "  </tbody>\n",
       "</table>\n",
       "</div>"
      ],
      "text/plain": [
       "                 trip_id                stop_id  stop_sequence arrival_time  \\\n",
       "0  Logan-22-Weekday-trip           Logan-Subway              1     08:00:00   \n",
       "1  Logan-22-Weekday-trip  Logan-RentalCarCenter              2     08:04:00   \n",
       "2  Logan-22-Weekday-trip                Logan-A              3     08:09:00   \n",
       "3  Logan-22-Weekday-trip                Logan-B              4     08:12:00   \n",
       "4  Logan-22-Weekday-trip           Logan-Subway              5     08:17:00   \n",
       "\n",
       "  departure_time  \n",
       "0       08:00:00  \n",
       "1       08:04:00  \n",
       "2       08:09:00  \n",
       "3       08:12:00  \n",
       "4       08:17:00  "
      ]
     },
     "execution_count": 162,
     "metadata": {},
     "output_type": "execute_result"
    }
   ],
   "source": [
    "stop_times = stop_times[(static_arrival_times < end) | (static_arrival_times > start)]\n",
    "stop_times.head()"
   ]
  },
  {
   "cell_type": "code",
   "execution_count": 165,
   "metadata": {},
   "outputs": [
    {
     "data": {
      "text/html": [
       "<div>\n",
       "<style>\n",
       "    .dataframe thead tr:only-child th {\n",
       "        text-align: right;\n",
       "    }\n",
       "\n",
       "    .dataframe thead th {\n",
       "        text-align: left;\n",
       "    }\n",
       "\n",
       "    .dataframe tbody tr th {\n",
       "        vertical-align: top;\n",
       "    }\n",
       "</style>\n",
       "<table border=\"1\" class=\"dataframe\">\n",
       "  <thead>\n",
       "    <tr style=\"text-align: right;\">\n",
       "      <th></th>\n",
       "      <th>trip_id</th>\n",
       "      <th>stop_id</th>\n",
       "      <th>stop_sequence</th>\n",
       "      <th>arrival_time</th>\n",
       "      <th>departure_time</th>\n",
       "    </tr>\n",
       "  </thead>\n",
       "  <tbody>\n",
       "  </tbody>\n",
       "</table>\n",
       "</div>"
      ],
      "text/plain": [
       "Empty DataFrame\n",
       "Columns: [trip_id, stop_id, stop_sequence, arrival_time, departure_time]\n",
       "Index: []"
      ]
     },
     "execution_count": 165,
     "metadata": {},
     "output_type": "execute_result"
    }
   ],
   "source": [
    "# sanity check\n",
    "static_arrival_times = stop_times['arrival_time'].apply(lambda x: datetime.strptime(x, '%H:%M:%S').time())\n",
    "stop_times[(static_arrival_times > end) & (static_arrival_times < start)]"
   ]
  },
  {
   "cell_type": "markdown",
   "metadata": {},
   "source": [
    "The stop_times dataframe only has static arrival times that fall under the period in which data was collected. Meaning that some of the trip ids in the dataframe could have corresponding rows in the trip updates table."
   ]
  },
  {
   "cell_type": "markdown",
   "metadata": {},
   "source": [
    "## Trip Updates"
   ]
  },
  {
   "cell_type": "code",
   "execution_count": 166,
   "metadata": {},
   "outputs": [],
   "source": [
    "temp_series = trp_update['timestamp'].copy()\n",
    "trp_update['timestamp'] = trp_update['timestamp'].apply(lambda x : datetime.strptime(x[11:19], '%H:%M:%S').time())"
   ]
  },
  {
   "cell_type": "code",
   "execution_count": 167,
   "metadata": {},
   "outputs": [],
   "source": [
    "# function to calculate the difference of two datetime.time objects\n",
    "time_diff = lambda x,y,z: datetime.combine(z, x) -  datetime.combine(z, y)"
   ]
  },
  {
   "cell_type": "code",
   "execution_count": 168,
   "metadata": {},
   "outputs": [],
   "source": [
    "first_stops = stop_times[stop_times['stop_sequence'] == 1].loc[:, ['trip_id', 'stop_id', 'arrival_time']]\n",
    "first_stops = first_stops.set_index('trip_id')"
   ]
  },
  {
   "cell_type": "markdown",
   "metadata": {},
   "source": [
    "The first_stops dataframe contains the expected arrival time for the first stop of each trip. This will be used later to try and retreive updates of trips from the trip updates table that are expected to have been running during the data collection period. The set index command is helpful because it allows for indexing by trip_id in order to get an expected arrival time. Note that this is doable because the first_stops dataframe does not have repeated trip_ids. Hopefully all first stops are those that are labeled 1 under stop_sequence for each trip."
   ]
  },
  {
   "cell_type": "code",
   "execution_count": 169,
   "metadata": {},
   "outputs": [
    {
     "data": {
      "text/html": [
       "<div>\n",
       "<style>\n",
       "    .dataframe thead tr:only-child th {\n",
       "        text-align: right;\n",
       "    }\n",
       "\n",
       "    .dataframe thead th {\n",
       "        text-align: left;\n",
       "    }\n",
       "\n",
       "    .dataframe tbody tr th {\n",
       "        vertical-align: top;\n",
       "    }\n",
       "</style>\n",
       "<table border=\"1\" class=\"dataframe\">\n",
       "  <thead>\n",
       "    <tr style=\"text-align: right;\">\n",
       "      <th></th>\n",
       "      <th>oid</th>\n",
       "      <th>trip_id</th>\n",
       "      <th>route_id</th>\n",
       "      <th>trip_start_time</th>\n",
       "      <th>timestamp</th>\n",
       "    </tr>\n",
       "  </thead>\n",
       "  <tbody>\n",
       "    <tr>\n",
       "      <th>0</th>\n",
       "      <td>1</td>\n",
       "      <td>35242107</td>\n",
       "      <td>1</td>\n",
       "      <td>NaN</td>\n",
       "      <td>22:33:24</td>\n",
       "    </tr>\n",
       "    <tr>\n",
       "      <th>1</th>\n",
       "      <td>2</td>\n",
       "      <td>35242108</td>\n",
       "      <td>1</td>\n",
       "      <td>NaN</td>\n",
       "      <td>22:33:24</td>\n",
       "    </tr>\n",
       "    <tr>\n",
       "      <th>2</th>\n",
       "      <td>3</td>\n",
       "      <td>35242109</td>\n",
       "      <td>1</td>\n",
       "      <td>NaN</td>\n",
       "      <td>22:33:24</td>\n",
       "    </tr>\n",
       "    <tr>\n",
       "      <th>3</th>\n",
       "      <td>4</td>\n",
       "      <td>35242110</td>\n",
       "      <td>1</td>\n",
       "      <td>NaN</td>\n",
       "      <td>22:33:24</td>\n",
       "    </tr>\n",
       "    <tr>\n",
       "      <th>4</th>\n",
       "      <td>5</td>\n",
       "      <td>35242111</td>\n",
       "      <td>1</td>\n",
       "      <td>NaN</td>\n",
       "      <td>22:33:24</td>\n",
       "    </tr>\n",
       "  </tbody>\n",
       "</table>\n",
       "</div>"
      ],
      "text/plain": [
       "   oid   trip_id route_id  trip_start_time timestamp\n",
       "0    1  35242107        1              NaN  22:33:24\n",
       "1    2  35242108        1              NaN  22:33:24\n",
       "2    3  35242109        1              NaN  22:33:24\n",
       "3    4  35242110        1              NaN  22:33:24\n",
       "4    5  35242111        1              NaN  22:33:24"
      ]
     },
     "execution_count": 169,
     "metadata": {},
     "output_type": "execute_result"
    }
   ],
   "source": [
    "trp_update.head()"
   ]
  },
  {
   "cell_type": "code",
   "execution_count": 179,
   "metadata": {},
   "outputs": [],
   "source": [
    "trp_update = trp_update[trp_update['trip_id'].isin(first_stops.index.values)]"
   ]
  },
  {
   "cell_type": "markdown",
   "metadata": {},
   "source": [
    "The above code minimizes the amount of records that need to be searched through. The set of trip_ids that are expected to be within the data collection period have been identified through static GTFS data, therefore, the trip updates associated with trip_ids that are not in this set are not important."
   ]
  },
  {
   "cell_type": "code",
   "execution_count": 227,
   "metadata": {},
   "outputs": [],
   "source": [
    "# this is just used in order to be able to do arithmetic with timestamps\n",
    "dummy = datetime(1,1,1,0,0,0)\n",
    "hour_23 = datetime(1,1,1,23,59,59)\n",
    "\n",
    "for idx, row in trp_update.iterrows():\n",
    "    trip_id = row['trip_id']\n",
    "    timestamp = row['timestamp']\n",
    "\n",
    "    try:\n",
    "        first_stop_arrival_time = first_stops.loc[trip_id, 'arrival_time']\n",
    "    except:\n",
    "        continue\n",
    "    first_stop_arrival_time = datetime.strptime(first_stop_arrival_time, '%H:%M:%S').time()\n",
    "\n",
    "    start = min(timestamp, first_stop_arrival_time)\n",
    "    end = max(timestamp, first_stop_arrival_time)\n",
    "\n",
    "    t_diff = time_diff(end, start, dummy)\n",
    "\n",
    "    if (t_diff < timedelta(seconds=1800)):\n",
    "        print('yeet')\n",
    "        break\n"
   ]
  },
  {
   "cell_type": "markdown",
   "metadata": {},
   "source": [
    "The above code is supposed to find live trip updates. In other words trip updates that were trips that were running during the data collection period"
   ]
  }
 ],
 "metadata": {
  "kernelspec": {
   "display_name": "Python [conda root]",
   "language": "python",
   "name": "conda-root-py"
  },
  "language_info": {
   "codemirror_mode": {
    "name": "ipython",
    "version": 3
   },
   "file_extension": ".py",
   "mimetype": "text/x-python",
   "name": "python",
   "nbconvert_exporter": "python",
   "pygments_lexer": "ipython3",
   "version": "3.5.3"
  }
 },
 "nbformat": 4,
 "nbformat_minor": 2
}
